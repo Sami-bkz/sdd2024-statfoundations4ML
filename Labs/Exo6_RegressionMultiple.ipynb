{
 "cells": [
  {
   "cell_type": "markdown",
   "metadata": {
    "user_expressions": []
   },
   "source": [
    "\n",
    "\n",
    "# Exercice 6 - Regression lineaire multiple et inference statistique\n",
    "### (suite de l'exercice 5)\n",
    "\n",
    "\n",
    "Dans le problème suivant, on considère que l'on connait les notes sur l'année de n élèves dans p matières, ainsi que leurs notes à un concours specifique en fin d'année. L'année suivante, on se demande si on ne pourrait pas prédire la note des étudiants au concours en fonction de leur moyenne annuelle afin d'estimer leurs chances au concours.\n",
    "\n",
    "On va résoudre le problème à l'aide de la regression linéaire multiple de scikitlearn (et plus à la main) et estimer à quel point les prédictions sont précises par inference statistique.\n",
    "\n"
   ]
  },
  {
   "cell_type": "code",
   "execution_count": 1,
   "metadata": {
    "tags": []
   },
   "outputs": [],
   "source": [
    "\n",
    "import numpy as np\n",
    "import matplotlib.pyplot as plt\n"
   ]
  },
  {
   "cell_type": "markdown",
   "metadata": {},
   "source": [
    "\n",
    "## Partie 1 -- Apprentissage/prédiction :\n",
    "\n",
    "### <span style = \"color: blue\">Questions 1</span>\n",
    "\n",
    "- Bien comprendre la fonction 'SimulateObservations2'\n",
    "- A l'aide de la fonction 'SimulateObservations2', simulez un jeu de données d'apprentissage [X_l,y_l] avec n_l=30 observations et un jeu de test [X_t,y_t] avec n_t=1000 observations. Les observations seront en dimension p=10.\n",
    "- Effectuez la régression linéaire multiple avec sklearn.linear_model.LinearRegression\n",
    "- Représentez un nuage de points dont chaque point a pour coordonnée (y_true,y_predicted). Les observations test seront utilisées. Calculez de même la 'mean squared error' sur ces données.  \n",
    "\n",
    "### <span style = \"color: blue\">Réponses 1</span>\n",
    "\n"
   ]
  },
  {
   "cell_type": "code",
   "execution_count": 7,
   "metadata": {
    "tags": []
   },
   "outputs": [
    {
     "name": "stdout",
     "output_type": "stream",
     "text": [
      "The thetas with which the values were simulated are: [0.17822592 0.03071976 0.07661258 0.10020523 0.1728382  0.05051\n",
      " 0.07025261 0.13047161 0.04006004 0.15010406]\n"
     ]
    },
    {
     "data": {
      "image/png": "[encoded data removed]",
      "text/plain": [
       "<Figure size 432x288 with 1 Axes>"
      ]
     },
     "metadata": {
      "needs_background": "light"
     },
     "output_type": "display_data"
    },
    {
     "name": "stdout",
     "output_type": "stream",
     "text": [
      "2.7732256190914875\n"
     ]
    }
   ],
   "source": [
    "\n",
    "def SimulateObservations2(n_train,n_test,p):\n",
    "    \"\"\"\n",
    "    n_train: number of training obserations to simulate\n",
    "    n_test: number of test obserations to simulate\n",
    "    p: dimension of the observations to simulate\n",
    "    \"\"\"\n",
    "    ObsX_train=20.*np.random.rand(n_train,p)\n",
    "    ObsX_tst=20.*np.random.rand(n_test,p)\n",
    "\n",
    "    RefTheta=np.random.rand(p)\n",
    "    RefTheta=RefTheta/RefTheta.sum()\n",
    "    print(\"The thetas with which the values were simulated are: \"+str(RefTheta))\n",
    "\n",
    "    ObsY_train=np.dot(ObsX_train,RefTheta.reshape(p,1))+1.5*np.random.randn(n_train,1)\n",
    "    ObsY_tst=np.dot(ObsX_tst,RefTheta.reshape(p,1))+1.5*np.random.randn(n_test,1)\n",
    "\n",
    "    return [ObsX_train,ObsY_train,ObsX_tst,ObsY_tst,RefTheta]\n",
    "\n",
    "n_train=30\n",
    "n_test=1000\n",
    "p=10\n",
    "[X_l,y_l,X_t,y_t,RefTheta]=SimulateObservations2(n_train,n_test,p)\n",
    "\n",
    "\n",
    "\n",
    "from sklearn.linear_model import LinearRegression\n",
    "\n",
    "# instanciation de sklearn.linear_model.LinearRegression\n",
    "lr = LinearRegression()\n",
    "lr.fit(X_l, y_l)\n",
    "y_predicted = lr.predict(X_t)\n",
    "\n",
    "# representation du resultat\n",
    "fig = plt.figure()\n",
    "plt.scatter(y_t, y_predicted)\n",
    "plt.title(\"$(y_t,y_{predicted})$\")\n",
    "plt.show()\n",
    "\n",
    "from sklearn.metrics import mean_squared_error\n",
    "\n",
    "MSE_test = mean_squared_error(y_t, y_predicted)\n",
    "print(MSE_test)"
   ]
  },
  {
   "cell_type": "markdown",
   "metadata": {},
   "source": [
    "## Partie 2 -- Inference sur les erreurs : \n",
    "\n",
    "On fait l'hypothèse que le bruit sur les observations est Gaussien (ce qui est vrai puisqu'on a simulé les données comme ça). Nous allons alors étudier comment les erreurs d'approximation sont distribuées.\n",
    "\n",
    "### <span style = \"color: blue\">Questions 2</span>\n",
    "\n",
    "- Utilisez les fonctions np.histogram et plt.plot pour représenter la distribution de l'erreur d'approximation dans les données de la partie 1.\n",
    "- La distribution de l'erreur est liée à une loi de student à n-p-1 degres de libertés. Nous n'allons pas caler cette loi à nos données mais simplement mesurer la moyenne d'erreur au carré (MSE - ou biais) dans nos données pour évaluer à quel point notre méthode est précise.\n",
    "\n",
    "### <span style = \"color: blue\">Réponses 2</span>\n"
   ]
  },
  {
   "cell_type": "code",
   "execution_count": 13,
   "metadata": {
    "tags": []
   },
   "outputs": [
    {
     "data": {
      "image/png": "[encoded data removed]",
      "text/plain": [
       "<Figure size 432x288 with 1 Axes>"
      ]
     },
     "metadata": {
      "needs_background": "light"
     },
     "output_type": "display_data"
    }
   ],
   "source": [
    "errors = y_t - y_predicted\n",
    "hist, bin_edges = np.histogram(errors)\n",
    "plt.stairs(hist,bin_edges)\n",
    "plt.show()\n",
    "\n"
   ]
  },
  {
   "cell_type": "markdown",
   "metadata": {},
   "source": [
    "## Partie 3 -- Variations de l'erreur pour différentes valeurs de n ou p : \n",
    "\n",
    "### <span style = \"color: blue\">Question 3</span>\n",
    "\n",
    "Reproduire les parties 1 et 2 de l'exercice pour différents nombres d'observations d'apprentissage (n) et différentes dimensions des observations (p) :\n",
    "- *Tests 1* : (n=30,p=1) , (n=30,p=5) , (n=30,p=10) , (n=30,p=15) , (n=30,p=20) , (n=30,p=25) , (n=30,p=29)\n",
    "- *Tests 2* : (n=11,p=10) ,(n=15,p=10) ,(n=20,p=10) ,(n=30,p=10) , (n=60,p=10) , (n=100,p=10)  \n",
    "\n",
    "Aussi bien pour *Tests 1* que pour *Tests 2*, verifiez comment évolue la MSE quand n ou p varie.\n",
    "\n",
    "### <span style = \"color: blue\">Réponse 3</span>\n"
   ]
  },
  {
   "cell_type": "code",
   "execution_count": 16,
   "metadata": {
    "tags": []
   },
   "outputs": [
    {
     "name": "stdout",
     "output_type": "stream",
     "text": [
      "The thetas with which the values were simulated are: [1.]\n",
      "The thetas with which the values were simulated are: [0.18190403 0.23667384 0.25794018 0.11089104 0.21259092]\n",
      "The thetas with which the values were simulated are: [0.13490858 0.12524944 0.15591866 0.06839473 0.02125831 0.11664988\n",
      " 0.13938539 0.04131072 0.09238009 0.1045442 ]\n",
      "The thetas with which the values were simulated are: [0.11052955 0.12238883 0.02385639 0.01945738 0.09666381 0.0559634\n",
      " 0.01315746 0.16256235 0.01760449 0.05668624 0.1319147  0.08178529\n",
      " 0.03926647 0.02359029 0.04457333]\n",
      "The thetas with which the values were simulated are: [0.01081449 0.03890233 0.02171809 0.02828518 0.00256624 0.10093336\n",
      " 0.01808828 0.10236041 0.04555662 0.10055501 0.0932224  0.03333622\n",
      " 0.07426464 0.02104089 0.0240085  0.02542782 0.10419696 0.08362874\n",
      " 0.02817071 0.04292311]\n",
      "The thetas with which the values were simulated are: [0.02818299 0.06925767 0.0517944  0.00575272 0.06521152 0.02081778\n",
      " 0.05017559 0.03076011 0.05911232 0.04827434 0.0404676  0.01171639\n",
      " 0.06949586 0.00305477 0.0384788  0.04297277 0.05647537 0.02598015\n",
      " 0.03386447 0.02721708 0.05873681 0.0646499  0.01162364 0.07272207\n",
      " 0.0132049 ]\n",
      "The thetas with which the values were simulated are: [0.04042964 0.01025536 0.0328308  0.00399566 0.06273801 0.04619821\n",
      " 0.05336429 0.06540518 0.04978927 0.01761239 0.03329002 0.05501233\n",
      " 0.06238435 0.01120169 0.04842152 0.03749573 0.02135096 0.0263711\n",
      " 0.01153154 0.02182866 0.03979113 0.06741128 0.00825251 0.01524047\n",
      " 0.01304001 0.05351916 0.05097297 0.01030591 0.02995986]\n"
     ]
    },
    {
     "data": {
      "image/png": "[encoded data removed]",
      "text/plain": [
       "<Figure size 432x288 with 1 Axes>"
      ]
     },
     "metadata": {
      "needs_background": "light"
     },
     "output_type": "display_data"
    },
    {
     "name": "stdout",
     "output_type": "stream",
     "text": [
      "The thetas with which the values were simulated are: [0.13101496 0.01243912 0.09002172 0.12872388 0.10096679 0.11206433\n",
      " 0.14060049 0.09486731 0.15073623 0.03856517]\n",
      "The thetas with which the values were simulated are: [0.14971616 0.03446017 0.02619018 0.12172944 0.04244573 0.13344503\n",
      " 0.08598506 0.1540857  0.15944999 0.09249254]\n",
      "The thetas with which the values were simulated are: [0.1341861  0.00106641 0.11493953 0.12853027 0.05913585 0.1302371\n",
      " 0.1125638  0.12032235 0.08461977 0.11439882]\n",
      "The thetas with which the values were simulated are: [0.01397654 0.07379424 0.02986463 0.08513819 0.06259099 0.13010023\n",
      " 0.18622331 0.18029517 0.14118371 0.09683298]\n",
      "The thetas with which the values were simulated are: [0.02142233 0.09852467 0.26238254 0.10271261 0.0759447  0.18304243\n",
      " 0.05785636 0.04622704 0.02045256 0.13143476]\n",
      "The thetas with which the values were simulated are: [0.08815117 0.10927186 0.11589797 0.15693933 0.08491373 0.09535612\n",
      " 0.12186961 0.15274048 0.01715123 0.0577085 ]\n"
     ]
    },
    {
     "data": {
      "image/png": "[encoded data removed]",
      "text/plain": [
       "<Figure size 432x288 with 1 Axes>"
      ]
     },
     "metadata": {
      "needs_background": "light"
     },
     "output_type": "display_data"
    }
   ],
   "source": [
    "MSE_test_1 = []\n",
    "n_train = 30\n",
    "p_test = [1,5,10,15,20,25,29]\n",
    "for p in p_test:\n",
    "    [X_l,y_l,X_t,y_t,RefTheta]=SimulateObservations2(n_train,n_test,p)\n",
    "    lr.fit(X_l, y_l)\n",
    "    y_predicted = lr.predict(X_t)\n",
    "    MSE_test_1.append(mean_squared_error(y_t, y_predicted))\n",
    "    \n",
    "plt.plot(np.array(p_test),np.log(np.array(MSE_test_1)))\n",
    "plt.show()\n",
    "\n",
    "MSE_test_2 = []\n",
    "p=10\n",
    "n_train_test = [11,15,20,30,60,100]\n",
    "for n_train in n_train_test:\n",
    "    [X_l,y_l,X_t,y_t,RefTheta]=SimulateObservations2(n_train,n_test,p)\n",
    "    lr.fit(X_l, y_l)\n",
    "    y_predicted = lr.predict(X_t)\n",
    "    MSE_test_2.append(mean_squared_error(y_t, y_predicted))\n",
    "    \n",
    "plt.plot(np.array(n_train_test),np.log(np.array(MSE_test_2)))\n",
    "plt.show()"
   ]
  },
  {
   "cell_type": "code",
   "execution_count": null,
   "metadata": {},
   "outputs": [],
   "source": []
  }
 ],
 "metadata": {
  "anaconda-cloud": {},
  "kernelspec": {
   "display_name": "BE STATS TC1A",
   "language": "python",
   "name": "be_stats"
  },
  "language_info": {
   "codemirror_mode": {
    "name": "ipython",
    "version": 3
   },
   "file_extension": ".py",
   "mimetype": "text/x-python",
   "name": "python",
   "nbconvert_exporter": "python",
   "pygments_lexer": "ipython3",
   "version": "3.9.7"
  }
 },
 "nbformat": 4,
 "nbformat_minor": 4
}
