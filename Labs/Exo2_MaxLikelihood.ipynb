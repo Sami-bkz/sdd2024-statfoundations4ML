{
 "cells": [
  {
   "cell_type": "code",
   "execution_count": 1,
   "metadata": {
    "tags": []
   },
   "outputs": [],
   "source": [
    "import numpy as np\n",
    "import matplotlib.pyplot as plt\n"
   ]
  },
  {
   "cell_type": "markdown",
   "metadata": {},
   "source": [
    "\n",
    "## Exercice 2 : maximum de vraisemblance\n",
    "\n",
    "### <span style=\"color:blue\">QUESTION 2.1 :</span> \n",
    "\n",
    "Tirer 10 fois une pièce à pile ou face et modéliser les résultats obtenus comme ceux d'une variable aléatoire X qui vaut X_i=0 si on a pile et X_i=1 si on a face.\n",
    "\n",
    "Calculez le maximum de vraisemblance du paramètre p d'un loi de Bernoulli qui modéliserait le problème. Pour y arriver, différentes valeures possibles de p seront testées et le p retenu sera celui qui a la plus grande vraisemblance.\n",
    "\n",
    "\n",
    "- Vérifier empiriquement comment évolue ce maximum de vraisemblance si l'on effectue de plus en plus de tirages\n",
    "- Que se passe-t-il quand il y a trop de tirages ? Représenter la log-vraisemblance plutot que la vraisemblance dans ce cas.\n",
    "\n",
    "\n"
   ]
  },
  {
   "cell_type": "code",
   "execution_count": 8,
   "metadata": {
    "tags": []
   },
   "outputs": [
    {
     "name": "stdout",
     "output_type": "stream",
     "text": [
      "0.495050505050505\n"
     ]
    },
    {
     "data": {
      "text/plain": [
       "[<matplotlib.lines.Line2D at 0x152c912c4c70>]"
      ]
     },
     "execution_count": 8,
     "metadata": {},
     "output_type": "execute_result"
    },
    {
     "data": {
      "image/png": "[encoded data removed]",
      "text/plain": [
       "<Figure size 432x288 with 1 Axes>"
      ]
     },
     "metadata": {
      "needs_background": "light"
     },
     "output_type": "display_data"
    }
   ],
   "source": [
    "NbTirages=500\n",
    "NbPiles = np.random.randn(NbTirages) > 0\n",
    "NbPiles = np.sum(NbPiles)\n",
    "NbFaces=NbTirages-NbPiles\n",
    "\n",
    "\n",
    "PossibleValuesForP=np.linspace(0.01,0.99,100)\n",
    "\n",
    "\n",
    "def vraisemblance(n_pile, n_face, p):\n",
    "    return p**n_face * (1-p)**n_pile \n",
    "\n",
    "p_max = 0\n",
    "v_max = 0\n",
    "CorrespondingLikelihood = []\n",
    "for p in PossibleValuesForP:\n",
    "    v = vraisemblance(NbPiles,NbFaces,p)\n",
    "    CorrespondingLikelihood.append(v)\n",
    "    if v > v_max:\n",
    "        v_max = v\n",
    "        p_max = p\n",
    "print(p_max)\n",
    "\n",
    "plt.plot(PossibleValuesForP,CorrespondingLikelihood)"
   ]
  },
  {
   "cell_type": "markdown",
   "metadata": {},
   "source": [
    "\n",
    "### <span style=\"color:blue\">QUESTION 2.2 :</span> \n",
    "\n",
    "\n",
    "Vérifier empiriquement comment évolue ce maximum de vraisemblance si l'on effectue de plus en plus de tirages. Pour éviter de tirer des centaines de fois à pile ou face, vous pourrez juste modifier *NbTirages¨et *NbPiles* dans le code, puis voir le comportement de la courbe *plt.plot(PossibleValuesForP,CorrespondingLikelihood)*.\n",
    "\n",
    "\n",
    "### <span style=\"color:blue\">REPONSE 2.2 :</span> \n",
    "\n"
   ]
  },
  {
   "cell_type": "markdown",
   "metadata": {
    "user_expressions": []
   },
   "source": [
    "\n",
    "En augmentatant le nombre de tirages, on diminue la valeur du maximum de vraisemblance. En augmentant le nombre de Piles, on décale le maximum de vraisemblance vers 1.\n",
    "\n",
    "### <span style=\"color:blue\">QUESTION 2.3 :</span> \n",
    "\n",
    "\n",
    "Que se passe-t-il quand il y a trop de tirages ? Représenter la log-vraisemblance plutot que la vraisemblance dans ce cas.\n",
    "\n",
    "### <span style=\"color:blue\">REPONSE 2.3 :</span> \n",
    "Quand il y a trop de tirages, la courbe est totalement écrasée et nulle : le maximum de vraissemblance est si proche de zéro qu'il est confondu avec cette valeur du fait de la représentation des flottants en machine."
   ]
  },
  {
   "cell_type": "code",
   "execution_count": 11,
   "metadata": {
    "tags": []
   },
   "outputs": [
    {
     "name": "stdout",
     "output_type": "stream",
     "text": [
      "0.495050505050505\n"
     ]
    },
    {
     "data": {
      "text/plain": [
       "[<matplotlib.lines.Line2D at 0x152c913a0520>]"
      ]
     },
     "execution_count": 11,
     "metadata": {},
     "output_type": "execute_result"
    },
    {
     "data": {
      "image/png": "[encoded data removed]",
      "text/plain": [
       "<Figure size 432x288 with 1 Axes>"
      ]
     },
     "metadata": {
      "needs_background": "light"
     },
     "output_type": "display_data"
    }
   ],
   "source": [
    "NbTirages=2000\n",
    "NbPiles = np.random.randn(NbTirages) > 0\n",
    "NbPiles = np.sum(NbPiles)\n",
    "NbFaces=NbTirages-NbPiles\n",
    "\n",
    "\n",
    "PossibleValuesForP=np.linspace(0.01,0.99,100)\n",
    "\n",
    "def log_vraisemblance(n_pile, n_face, p):\n",
    "    return np.log(p)*n_face + np.log(1-p)*n_pile \n",
    "\n",
    "p_max = 0.01\n",
    "v_max = log_vraisemblance(NbPiles,NbFaces,0.01)\n",
    "CorrespondingLikelihood = []\n",
    "for p in PossibleValuesForP:\n",
    "    v = log_vraisemblance(NbPiles,NbFaces,p)\n",
    "    CorrespondingLikelihood.append(v)\n",
    "    if v > v_max:\n",
    "        v_max = v\n",
    "        p_max = p\n",
    "print(p_max)\n",
    "\n",
    "plt.plot(PossibleValuesForP,CorrespondingLikelihood)"
   ]
  },
  {
   "cell_type": "code",
   "execution_count": null,
   "metadata": {},
   "outputs": [],
   "source": []
  },
  {
   "cell_type": "code",
   "execution_count": null,
   "metadata": {},
   "outputs": [],
   "source": []
  },
  {
   "cell_type": "code",
   "execution_count": null,
   "metadata": {},
   "outputs": [],
   "source": []
  }
 ],
 "metadata": {
  "anaconda-cloud": {},
  "kernelspec": {
   "display_name": "BE STATS TC1A",
   "language": "python",
   "name": "be_stats"
  },
  "language_info": {
   "codemirror_mode": {
    "name": "ipython",
    "version": 3
   },
   "file_extension": ".py",
   "mimetype": "text/x-python",
   "name": "python",
   "nbconvert_exporter": "python",
   "pygments_lexer": "ipython3",
   "version": "3.9.7"
  }
 },
 "nbformat": 4,
 "nbformat_minor": 4
}
