{
 "cells": [
  {
   "cell_type": "markdown",
   "metadata": {},
   "source": [
    "\n",
    "\n",
    "# Exercice 6 - Regression lineaire multiple et inference statistique\n",
    "### (suite de l'exercice 5)\n",
    "\n",
    "\n",
    "Dans le problème suivant, on considère que l'on connait les notes sur l'année de n élèves dans p matières, ainsi que leurs notes à un concours specifique en fin d'année. L'année suivante, on se demande si on ne pourrait pas prédire la note des étudiants au concours en fonction de leur moyenne annuelle afin d'estimer leurs chances au concours.\n",
    "\n",
    "On va résoudre le problème à l'aide de la regression linéaire multiple de scikitlearn (et plus à la main) et estimer à quel point les prédictions sont précises par inference statistique.\n",
    "\n"
   ]
  },
  {
   "cell_type": "code",
   "execution_count": null,
   "metadata": {},
   "outputs": [],
   "source": [
    "\n",
    "import numpy as np\n",
    "import matplotlib.pyplot as plt\n"
   ]
  },
  {
   "cell_type": "markdown",
   "metadata": {},
   "source": [
    "\n",
    "## Partie 1 -- Apprentissage/prédiction :\n",
    "\n",
    "### <span style = \"color: blue\">Questions 1</span>\n",
    "\n",
    "- Bien comprendre la fonction 'SimulateObservations2'\n",
    "- A l'aide de la fonction 'SimulateObservations2', simulez un jeu de données d'apprentissage [X_l,y_l] avec n_l=30 observations et un jeu de test [X_t,y_t] avec n_t=1000 observations. Les observations seront en dimension p=10.\n",
    "- Effectuez la régression linéaire multiple avec sklearn.linear_model.LinearRegression\n",
    "- Représentez un nuage de points dont chaque point a pour coordonnée (y_true,y_predicted). Les observations test seront utilisées. Calculez de même la 'mean squared error' sur ces données.  \n",
    "\n",
    "### <span style = \"color: blue\">Réponses 1</span>\n",
    "\n"
   ]
  },
  {
   "cell_type": "code",
   "execution_count": null,
   "metadata": {},
   "outputs": [],
   "source": [
    "\n",
    "def SimulateObservations2(n_train,n_test,p):\n",
    "  \"\"\"\n",
    "  n_train: number of training obserations to simulate\n",
    "  n_test: number of test obserations to simulate\n",
    "  p: dimension of the observations to simulate\n",
    "  \"\"\"\n",
    "  \n",
    "  ObsX_train=20.*np.random.rand(n_train,p)\n",
    "  ObsX_tst=20.*np.random.rand(n_test,p)\n",
    "  \n",
    "  RefTheta=np.random.rand(p)\n",
    "  RefTheta=RefTheta/RefTheta.sum()\n",
    "  print(\"The thetas with which the values were simulated are: \"+str(RefTheta))\n",
    "  \n",
    "  ObsY_train=np.dot(ObsX_train,RefTheta.reshape(p,1))+1.5*np.random.randn(n_train,1)\n",
    "  ObsY_tst=np.dot(ObsX_tst,RefTheta.reshape(p,1))+1.5*np.random.randn(n_test,1)\n",
    "  \n",
    "  return [ObsX_train,ObsY_train,ObsX_tst,ObsY_tst,RefTheta]\n",
    "\n",
    "n=#...\n",
    "p=#...\n",
    "[X_l,y_l,X_t,y_t,RefTheta]=SimulateObservations2#...\n",
    "\n",
    "\n",
    "\n",
    "from sklearn.linear_model import LinearRegression\n",
    "\n",
    "#...\n",
    "\n",
    "from sklearn.metrics import mean_squared_error\n",
    "\n",
    "#..."
   ]
  },
  {
   "cell_type": "markdown",
   "metadata": {},
   "source": [
    "## Partie 2 -- Inference sur les erreurs : \n",
    "\n",
    "On fait l'hypothèse que le bruit sur les observations est Gaussien (ce qui est vrai puisqu'on a simulé les données comme ça). Nous allons alors étudier comment les erreurs d'approximation sont distribuées.\n",
    "\n",
    "### <span style = \"color: blue\">Questions 2</span>\n",
    "\n",
    "- Utilisez les fonctions np.histogram et plt.plot pour représenter la distribution de l'erreur d'approximation dans les données de la partie 1.\n",
    "- La distribution de l'erreur est liée à une loi de student à n-p-1 degres de libertés. Nous n'allons pas caler cette loi à nos données mais simplement mesurer la moyenne d'erreur au carré (MSE - ou biais) dans nos données pour évaluer à quel point notre méthode est précise.\n",
    "\n",
    "### <span style = \"color: blue\">Réponses 2</span>\n"
   ]
  },
  {
   "cell_type": "code",
   "execution_count": null,
   "metadata": {},
   "outputs": [],
   "source": []
  },
  {
   "cell_type": "markdown",
   "metadata": {},
   "source": [
    "## Partie 3 -- Variations de l'erreur pour différentes valeurs de n ou p : \n",
    "\n",
    "### <span style = \"color: blue\">Question 3</span>\n",
    "\n",
    "Reproduire les parties 1 et 2 de l'exercice pour différents nombres d'observations d'apprentissage (n) et différentes dimensions des observations (p) :\n",
    "- *Tests 1* : (n=30,p=1) , (n=30,p=5) , (n=30,p=10) , (n=30,p=15) , (n=30,p=20) , (n=30,p=25) , (n=30,p=29)\n",
    "- *Tests 2* : (n=11,p=10) ,(n=15,p=10) ,(n=20,p=10) ,(n=30,p=10) , (n=60,p=10) , (n=100,p=10)  \n",
    "\n",
    "Aussi bien pour *Tests 1* que pour *Tests 2*, verifiez comment évolue la MSE quand n ou p varie.\n",
    "\n",
    "### <span style = \"color: blue\">Réponse 3</span>\n"
   ]
  },
  {
   "cell_type": "code",
   "execution_count": null,
   "metadata": {},
   "outputs": [],
   "source": [
    "#..."
   ]
  }
 ],
 "metadata": {
  "anaconda-cloud": {},
  "kernelspec": {
   "display_name": "Python 3 (ipykernel)",
   "language": "python",
   "name": "python3"
  },
  "language_info": {
   "codemirror_mode": {
    "name": "ipython",
    "version": 3
   },
   "file_extension": ".py",
   "mimetype": "text/x-python",
   "name": "python",
   "nbconvert_exporter": "python",
   "pygments_lexer": "ipython3",
   "version": "3.9.13"
  }
 },
 "nbformat": 4,
 "nbformat_minor": 4
}
