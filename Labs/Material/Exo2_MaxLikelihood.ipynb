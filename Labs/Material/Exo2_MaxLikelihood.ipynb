{
 "cells": [
  {
   "cell_type": "code",
   "execution_count": null,
   "metadata": {},
   "outputs": [],
   "source": [
    "import numpy as np\n",
    "import matplotlib.pyplot as plt\n"
   ]
  },
  {
   "cell_type": "markdown",
   "metadata": {},
   "source": [
    "\n",
    "## Exercice 2 : maximum de vraisemblance\n",
    "\n",
    "### <span style=\"color:blue\">QUESTION 2.1 :</span> \n",
    "\n",
    "Tirer 10 fois une pièce à pile ou face et modéliser les résultats obtenus comme ceux d'une variable aléatoire X qui vaut X_i=0 si on a pile et X_i=1 si on a face.\n",
    "\n",
    "Calculez le maximum de vraisemblance du paramètre p d'un loi de Bernoulli qui modéliserait le problème. Pour y arriver, différentes valeures possibles de p seront testées et le p retenu sera celui qui a la plus grande vraisemblance.\n",
    "\n",
    "\n",
    "- Vérifier empiriquement comment évolue ce maximum de vraisemblance si l'on effectue de plus en plus de tirages\n",
    "- Que se passe-t-il quand il y a trop de tirages ? Représenter la log-vraisemblance plutot que la vraisemblance dans ce cas.\n",
    "\n",
    "\n"
   ]
  },
  {
   "cell_type": "code",
   "execution_count": null,
   "metadata": {},
   "outputs": [],
   "source": [
    "NbTirages=100\n",
    "NbPiles = np.random.randn(NbTirages) > 0\n",
    "NbPiles = np.sum(NbPiles)\n",
    "NbFaces=NbTirages-NbPiles\n",
    "\n",
    "\n",
    "PossibleValuesForP=np.linspace(0.01,0.99,100)\n",
    "\n",
    "\"\"\"\n",
    "def vraisemblance(n_pile, n_face, p):\n",
    "    \n",
    "    return ... \n",
    "\"\"\" \n",
    "\n",
    "..."
   ]
  },
  {
   "cell_type": "markdown",
   "metadata": {},
   "source": [
    "\n",
    "### <span style=\"color:blue\">QUESTION 2.2 :</span> \n",
    "\n",
    "\n",
    "Vérifier empiriquement comment évolue ce maximum de vraisemblance si l'on effectue de plus en plus de tirages. Pour éviter de tirer des centaines de fois à pile ou face, vous pourrez juste modifier *NbTirages¨et *NbPiles* dans le code, puis voir le comportement de la courbe *plt.plot(PossibleValuesForP,CorrespondingLikelihood)*.\n",
    "\n",
    "\n",
    "### <span style=\"color:blue\">REPONSE 2.2 :</span> \n",
    "\n"
   ]
  },
  {
   "cell_type": "markdown",
   "metadata": {},
   "source": [
    "\n",
    "...\n",
    "\n",
    "### <span style=\"color:blue\">QUESTION 2.3 :</span> \n",
    "\n",
    "\n",
    "Que se passe-t-il quand il y a trop de tirages ? Représenter la log-vraisemblance plutot que la vraisemblance dans ce cas.\n",
    "\n",
    "### <span style=\"color:blue\">REPONSE 2.3 :</span> \n"
   ]
  },
  {
   "cell_type": "code",
   "execution_count": null,
   "metadata": {},
   "outputs": [],
   "source": [
    "NbTirages=2000\n",
    "NbPiles = np.random.randn(NbTirages) > 0\n",
    "NbPiles = np.sum(NbPiles)\n",
    "NbFaces=NbTirages-NbPiles\n",
    "\n",
    "\n",
    "PossibleValuesForP=np.linspace(0.01,0.99,100)\n",
    "\n",
    "..."
   ]
  },
  {
   "cell_type": "code",
   "execution_count": null,
   "metadata": {},
   "outputs": [],
   "source": []
  },
  {
   "cell_type": "code",
   "execution_count": null,
   "metadata": {},
   "outputs": [],
   "source": []
  },
  {
   "cell_type": "code",
   "execution_count": null,
   "metadata": {},
   "outputs": [],
   "source": []
  }
 ],
 "metadata": {
  "anaconda-cloud": {},
  "kernelspec": {
   "display_name": "Python 3 (ipykernel)",
   "language": "python",
   "name": "python3"
  },
  "language_info": {
   "codemirror_mode": {
    "name": "ipython",
    "version": 3
   },
   "file_extension": ".py",
   "mimetype": "text/x-python",
   "name": "python",
   "nbconvert_exporter": "python",
   "pygments_lexer": "ipython3",
   "version": "3.9.13"
  }
 },
 "nbformat": 4,
 "nbformat_minor": 4
}
