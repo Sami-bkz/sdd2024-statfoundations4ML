{
 "cells": [
  {
   "cell_type": "markdown",
   "metadata": {},
   "source": [
    "## EXERCICE 11 : Régression logistique et explicabilité\n",
    "\n",
    "Vous voila maintenant prêts à utiliser vos connaissances méthodologiques et techniques pour l'étude de nouveaux cas. Nous allons maintenant tenter de distinguer des *8* et des *9* manuscrits à partir d'un modèle de régression logisique. Une fois le modèle appris et validé, nous expliquerons comment les décision sont prises en représentant les poids attribués aux différents pixels. \n"
   ]
  },
  {
   "cell_type": "code",
   "execution_count": null,
   "metadata": {},
   "outputs": [],
   "source": [
    "\n",
    "import numpy as np # to handle matrix and data operation\n",
    "import matplotlib.pyplot as plt   #image visualisation\n",
    "\n",
    "\n",
    "def ShowMNISTObservation(X_data,y_data,obsNb=0):\n",
    "  plt.clf()\n",
    "  plt.imshow(X_data[obsNb,:].reshape((28,28)),cmap='binary')\n",
    "  plt.title('Observation '+str(obsNb)+': Label '+str((y_data[obsNb,0])))\n",
    "  plt.show()\n",
    "\n",
    "\n",
    "    \n",
    "data=np.genfromtxt('./mnist_8_9.csv',delimiter=',')\n",
    "\n",
    "n_tot=data.shape[0]\n",
    "p=data.shape[1]\n",
    "\n",
    "y_train=data[:200,0].reshape(-1,1)\n",
    "X_train=data[:200,1:]\n",
    "\n",
    "y_test=data[200:,0].reshape(-1,1)\n",
    "X_test=data[200:,1:]\n",
    "\n",
    "\n",
    "print(X_train.shape)\n",
    "print(y_train.shape)\n",
    "print(np.mean(y_train))\n",
    "print(X_test.shape)\n",
    "print(y_test.shape)\n",
    "print(np.mean(y_test))\n",
    "\n",
    "ShowMNISTObservation(X_train,y_train,obsNb=0)\n"
   ]
  },
  {
   "cell_type": "markdown",
   "metadata": {},
   "source": [
    "### <span style=\"color:blue\">QUESTIONS</span> \n",
    "    \n",
    "#### <span style=\"color:blue\">QUESTION 1</span> \n",
    "    \n",
    "Bien comprendre la structuration des données dans l'exemple ci-dessus. Utilisez alors la classe de scikit-learn dédiée à la régression logistique pour apprendre à distinguer les 8 manuscrits les 9 manuscrits.\n",
    "    \n",
    "On notera que :\n",
    "- les algorithmes d'apprentissage automatique sont souvent pré-calibrés pour prendre en entrée des données centrées-réduites dans le cas de données *tableaux*, ou des valeurs entre 0 et 1 dans le cas des données *images*.\n",
    "- Les labels des deux classes en sortie (i.e. dans Y) seront 0 ou 1.\n",
    "\n",
    "#### <span style=\"color:blue\">REPONSE 1 </span> \n",
    "\n",
    "    \n",
    "\n",
    "\n"
   ]
  },
  {
   "cell_type": "code",
   "execution_count": null,
   "metadata": {},
   "outputs": [],
   "source": [
    "#..."
   ]
  },
  {
   "cell_type": "markdown",
   "metadata": {},
   "source": [
    "\n",
    "#### <span style=\"color:blue\">QUESTION 2</span> \n",
    "\n",
    "Une fois les paramètres du classifieur appris, validez son efficacité. \n",
    "    \n",
    "#### <span style=\"color:blue\">REPONSE 2</span> \n"
   ]
  },
  {
   "cell_type": "code",
   "execution_count": null,
   "metadata": {},
   "outputs": [],
   "source": [
    "#..."
   ]
  },
  {
   "cell_type": "markdown",
   "metadata": {},
   "source": [
    "    \n",
    "#### <span style=\"color:blue\">QUESTION 3</span> \n",
    "\n",
    "Visualisez les poids attribués à chaque pixel dans le classifieur pour expliquer quels pixels sont les plus influents dans la prise de décision.\n",
    "    \n",
    "#### <span style=\"color:blue\">REPONSE 3</span> \n"
   ]
  },
  {
   "cell_type": "code",
   "execution_count": null,
   "metadata": {},
   "outputs": [],
   "source": [
    "#..."
   ]
  },
  {
   "cell_type": "markdown",
   "metadata": {},
   "source": [
    "#### <span style=\"color:blue\">QUESTION 4</span> \n",
    "\n",
    "Régularisez le problème d'appentissage, de manière à utiliser par la suite moins de 10 pixels pour la prise de décision. Représentez alors ces pixels. La localisation de ces points automatiquement détectés, vous semble-t-elle avoir du sens ? La précision des prédiction est-elle beaucoup pénalisée ? \n",
    "    \n",
    "#### <span style=\"color:blue\">REPONSE 4</span> \n"
   ]
  },
  {
   "cell_type": "code",
   "execution_count": null,
   "metadata": {},
   "outputs": [],
   "source": [
    "#..."
   ]
  }
 ],
 "metadata": {
  "anaconda-cloud": {},
  "kernelspec": {
   "display_name": "Python 3 (ipykernel)",
   "language": "python",
   "name": "python3"
  },
  "language_info": {
   "codemirror_mode": {
    "name": "ipython",
    "version": 3
   },
   "file_extension": ".py",
   "mimetype": "text/x-python",
   "name": "python",
   "nbconvert_exporter": "python",
   "pygments_lexer": "ipython3",
   "version": "3.9.13"
  }
 },
 "nbformat": 4,
 "nbformat_minor": 4
}
