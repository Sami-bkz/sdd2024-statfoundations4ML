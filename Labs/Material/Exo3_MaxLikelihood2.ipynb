{
 "cells": [
  {
   "cell_type": "markdown",
   "metadata": {},
   "source": [
    "\n",
    "## Exercice 3 : maximum de vraisemblance 2\n",
    "\n",
    "On veut quantifier le lien entre deux variables pour lesquelles une relation lineaire semble exister, mais le bruit qui effecte les observations sur la deuxieme variable n'est clairement pas Gaussien.\n",
    "\n",
    "Nous allons essayer de trouver la relation entre les variables a l'aide d'un modele de regression lineaire dont les parametres seront optimises en maximisant une vraissemblance plutot qu'en minimisant une erreur au carre.\n"
   ]
  },
  {
   "cell_type": "code",
   "execution_count": null,
   "metadata": {},
   "outputs": [],
   "source": [
    "import numpy as np\n",
    "import matplotlib.pyplot as plt\n",
    "\n",
    "\n",
    "MyData=np.genfromtxt('QuantifiedDataExo1_3.csv')\n",
    "\n",
    "plt.scatter(MyData[:,0],MyData[:,1])\n",
    "plt.show()\n"
   ]
  },
  {
   "cell_type": "markdown",
   "metadata": {},
   "source": [
    "\n",
    "### <span style=\"color:blue\">QUESTION 3.1 :</span> \n",
    "\n",
    "Essayez de resoudre le probleme a l'aide de l'algorithme de regression lineaire de scikit-learn"
   ]
  },
  {
   "cell_type": "code",
   "execution_count": null,
   "metadata": {},
   "outputs": [],
   "source": [
    "X=MyData[:,0]\n",
    "Y=MyData[:,1]\n",
    "\n",
    "import sklearn\n",
    "from sklearn.linear_model import LinearRegression\n",
    "\n",
    "lr = LinearRegression()\n",
    "\n",
    "...\n"
   ]
  },
  {
   "cell_type": "markdown",
   "metadata": {},
   "source": [
    "On peut constater que la pente de la courbe est legerement trop forte. Cette mauvaise estimation est due a trois observations a droite de la figure qui font un effet levier. La regression lineaire minimise l'erreur d'approximation au carre sur les observations d'apprentissage. De maniere sous-jacente cela se base sur l'hypothese que les erreurs d'approximation suivent une loi normale centree (et pas forcement reduite). Hors, les erreurs d'approximation autour d'un modele lineaire sont clairement non symetriques ici. Nous allons alors resoudre le probleme au sens du maximum de vraisemblance.\n",
    "\n",
    "### <span style=\"color:blue\">QUESTION 3.2 :</span> \n",
    "\n",
    "On va modeliser le probleme sous la forme :\n",
    "\n",
    "$ypred_i = a * x_i +b \\,,\\, \\forall i = 1, \\ldots, n$\n",
    "et $err_i= ypred_i-y_i$\n",
    "\n",
    "ou les $x_i$ et $y_i$ sont les donnees d'apprentissage pour les observations $i$ dans $[1, 2, ..., n]$, et $ypred_i$ approche $y_i$. Les deux parametres du modele lineaire que l'on cherche a estimer sont $a$ et $b$. Afin de résoudre le probleme, on va alors repondre aux sous-questions suivantes :\n",
    "\n",
    "#### <span style=\"color:blue\">QUESTION 3.2.1 :</span> \n",
    "Codez une fonction qui calcul les erreurs d'approximations pour toutes les observations de $X$ et $Y$ avec un $a$ et un $b$ specifiques.\n",
    "\n",
    "#### <span style=\"color:blue\">QUESTION 3.2.2 :</span> \n",
    "\n",
    "Codez une fonction qui calcule la log-vraisemblance (ou la vraisemblance) de parametres pour lesquel l'erreur d'approximation suit une loi normale centree d'ecart type sigma. On donnera la valeur par defaut sigma=2\n",
    "\n",
    "#### <span style=\"color:blue\">QUESTION 3.2.3 :</span> \n",
    "\n",
    "Codez une fonction qui calcule la log-vraisemblance (ou la vraisemblance) de parametres pour lesquel l'erreur d'approximation suit une loi de chi2. On fixera par defaut le nombre de degres de liberte ddl=3 et l'echelle de la loi (scale) a 0.4. On fera très attention au fait que la densite de probabilite d'une valeur negative sera egale a zero avec la loi du chi2.\n",
    "\n",
    "#### <span style=\"color:blue\">QUESTION 3.2.4 :</span> \n",
    "\n",
    "Utilisez les fonctions de calcul de la (log-)vraisemblance pour trouver une relation lineaire qui semble raisonable, i.e. pour trouver les parametres a et b les plus vraisemblables. On pourra eventuellement s'aider d'une representation du nuage de points qui represente le 'score' attribue a chaque observation.\n"
   ]
  },
  {
   "cell_type": "code",
   "execution_count": null,
   "metadata": {},
   "outputs": [],
   "source": [
    "#CODE 2.1\n",
    "def compute_errors(X,Y,theta):\n",
    "    \"\"\"\n",
    "    returns a vector having the same size as X or Y which represents the errors\n",
    "    with a 1D linear model of parameters theta=[a,b]\n",
    "    \"\"\"\n",
    "    ...\n",
    "    return errors\n"
   ]
  },
  {
   "cell_type": "code",
   "execution_count": null,
   "metadata": {},
   "outputs": [],
   "source": [
    "\n",
    "#CODE 2.2\n",
    "\n",
    "from scipy.stats import norm\n",
    "\n",
    "def likelihood_normal(X,Y,theta,sigma=2.):\n",
    "    \"\"\"\n",
    "    returns the likelihood of the 1D linear model with parameters theta=[a,b] and\n",
    "    the errors following a normal law of std=sigma\n",
    "    \"\"\"\n",
    "\n",
    "    errors=compute_errors(X,Y,theta)\n",
    "\n",
    "    ...\n",
    "\n",
    "    return likelihood\n",
    "\n"
   ]
  },
  {
   "cell_type": "code",
   "execution_count": null,
   "metadata": {},
   "outputs": [],
   "source": [
    "#CODE 2.3\n",
    "\n",
    "from scipy.stats import chi2\n",
    "\n",
    "def likelihood_chi2(X,Y,theta,dof=3,sc=0.4):\n",
    "    \"\"\"\n",
    "    returns the likelihood of the 1D linear model with parameters theta=[a,b] and\n",
    "    the errors following a chi2 law of dof degrees of freedom\n",
    "    \"\"\"\n",
    "\n",
    "    errors=compute_errors(X,Y,theta)\n",
    "\n",
    "    ...\n",
    "\n",
    "    return likelihood\n",
    "\n"
   ]
  },
  {
   "cell_type": "code",
   "execution_count": null,
   "metadata": {},
   "outputs": [],
   "source": [
    "#CODE 2.4\n",
    "\n",
    "likelihood_normal(X,Y,[1.2,-0.3],sigma=2.,verbose=True)\n",
    "\n",
    "likelihood_chi2(X,Y,[1.2,-0.6],dof=3,sc=0.4,verbose=True)\n",
    "\n"
   ]
  },
  {
   "cell_type": "markdown",
   "metadata": {},
   "source": [
    "\n",
    "### <span style=\"color:blue\">QUESTION 3.3 :</span> \n",
    "\n",
    "Codez une fonction de descente de gradient pour apprendre les parametres optimaux du modele (a et b) avec les deux types de bruit consideres mais leurs parametres fixes aux valeurs par defaut.\n",
    "\n",
    "Remarque: on **maximisera** idéalement la log-vraisemblance plutôt que la vraisemblance, ce qui est numeriquement plus efficace et conduit au même résultat.\n",
    "\n"
   ]
  },
  {
   "cell_type": "code",
   "execution_count": null,
   "metadata": {},
   "outputs": [],
   "source": [
    "\n",
    "def MinusLikelihood_normal(X,Y,theta,sigma=2.):\n",
    "    return -likelihood_normal(X,Y,theta,sigma=sigma)\n",
    "\n",
    "def MinusLikelihood_chi2(X,Y,theta,dof=3,sc=0.4):\n",
    "    return -likelihood_chi2(X,Y,theta,dof=dof,sc=sc)\n",
    "\n",
    "#3.1: fonctions pour la descente de gradient\n",
    "\n",
    "def Grad_function(f,X,Y,theta_loc,epsilon=1e-5):\n",
    "  ...\n",
    "  return ApproxGrad\n",
    "\n",
    "#descente de gradient avec alpha defini a la main\n",
    "\n",
    "def grad_descent(funct,X,Y,theta_init,convspeedfactor=0.1,nbIterations=100):\n",
    "    ...\n",
    "\n",
    "    return theta\n",
    "\n",
    "..."
   ]
  },
  {
   "cell_type": "markdown",
   "metadata": {},
   "source": [
    "\n",
    "l'optimisation marche aussi, meme si il faut faire tres attention au choix du theta_init (la densite du chi2 est nulle pour les erreurs negatives)... par contre :\n",
    "  -> la vraisemblance est de 10e-7 au lieu de 10e-15\n",
    "  -> le modele lineaire colle mieux a la majorite des donnees et est moins sensible aux donnees visiblement aberrantes\n",
    "\n",
    "\n",
    "On peut alors plus faire confiance a la pente calculee avec le bruit de type chi2 que le bruit gaussien, MAIS en etant clair sur le fait qu'on aura une tendance loin d'etre negligeable de s'eloigner regulierement du modele lineaire de maniere non-symetrique par rapport au modele.\n"
   ]
  },
  {
   "cell_type": "code",
   "execution_count": null,
   "metadata": {},
   "outputs": [],
   "source": [
    "\"\"\"\n",
    "#Remarque : Generation de donnees dans cet exercice :\n",
    "\n",
    "import numpy as np\n",
    "import matplotlib.pyplot as plt\n",
    "n = 20\n",
    "X = np.random.uniform(size=n)\n",
    "y = 1.2*X[:] + np.random.chisquare(1.,size=n)*0.4-0.5\n",
    "\n",
    "plt.plot(X[], y, 'r.')\n",
    "plt.show()\n",
    "\n",
    "MyData=np.concatenate((X.reshape(-1,1),y.reshape(-1,1)),axis=1)\n",
    "np.savetxt('J18_E4_QuantifiedData.csv',MyData)\n",
    "\"\"\""
   ]
  },
  {
   "cell_type": "code",
   "execution_count": null,
   "metadata": {},
   "outputs": [],
   "source": []
  },
  {
   "cell_type": "code",
   "execution_count": null,
   "metadata": {},
   "outputs": [],
   "source": []
  },
  {
   "cell_type": "code",
   "execution_count": null,
   "metadata": {},
   "outputs": [],
   "source": []
  }
 ],
 "metadata": {
  "anaconda-cloud": {},
  "kernelspec": {
   "display_name": "Python 3 (ipykernel)",
   "language": "python",
   "name": "python3"
  },
  "language_info": {
   "codemirror_mode": {
    "name": "ipython",
    "version": 3
   },
   "file_extension": ".py",
   "mimetype": "text/x-python",
   "name": "python",
   "nbconvert_exporter": "python",
   "pygments_lexer": "ipython3",
   "version": "3.9.13"
  }
 },
 "nbformat": 4,
 "nbformat_minor": 4
}
