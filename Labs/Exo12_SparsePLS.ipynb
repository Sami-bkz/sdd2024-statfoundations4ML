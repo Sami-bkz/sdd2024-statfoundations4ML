{
 "cells": [
  {
   "cell_type": "markdown",
   "metadata": {
    "user_expressions": []
   },
   "source": [
    "## EXERCICE 12 : PLS parcimonieuse (sparse-PLS)\n",
    "\n",
    "Nous allons maintenant creuser l'algorithme de la PLS vu précédement avec des donnees qui contiennent des relations plus complexes. Nous allons aussi essayer de detecter automatiquement les variables les plus pertinentes a l'aide d'une strategie L1 de parcimonie.\n"
   ]
  },
  {
   "cell_type": "code",
   "execution_count": 1,
   "metadata": {
    "tags": []
   },
   "outputs": [],
   "source": [
    "\n",
    "import numpy as np\n",
    "import matplotlib.pyplot as plt\n",
    "\n",
    "from sklearn.preprocessing import scale\n",
    "\n",
    "#Generation de donnees\n",
    "n = 1000\n",
    "p = 10\n",
    "X = np.random.normal(size=n * p).reshape((n, p))\n",
    "X[:, 2]=0.5*X[:, 1]+0.1*np.random.normal(size=n)\n",
    "X[:, 3]=0.4*X[:, 1]+0.1*np.random.normal(size=n)\n",
    "y = 1.5 * X[:, 0] + 1 * X[:, 1]  + np.random.normal(size=n)\n",
    "\n",
    "\n",
    "\n"
   ]
  },
  {
   "cell_type": "code",
   "execution_count": 2,
   "metadata": {
    "tags": []
   },
   "outputs": [],
   "source": [
    "\n",
    "def PLS1(X,y,l):\n",
    "    \"\"\"\n",
    "    PLS1 strategy - NIPALS algorithm\n",
    "\n",
    "    Returns:\n",
    "        - B: regression coefficients wrt the original predictors\n",
    "        - W: orthonormal weights\n",
    "        - P: matrix of X-loading\n",
    "        - q: vector of y-loading\n",
    "    \"\"\"\n",
    "    [n,p]=X.shape\n",
    "\n",
    "    list_w_k=[]\n",
    "    list_p_k=[]\n",
    "    list_q_k=[]\n",
    "\n",
    "    X_k=X.copy()\n",
    "    v_k=np.dot(X_k.transpose(),y)\n",
    "    w_k=v_k/np.linalg.norm(v_k)   #covariance of each variable with y\n",
    "\n",
    "    for k in range(l):\n",
    "        #compute the projections and loadings\n",
    "        tau_k=np.dot(X_k,w_k)   #weighted sum of the variables with weights that emphasize the variables of X that are the most correlated with y\n",
    "        t_k=tau_k/np.linalg.norm(tau_k)\n",
    "        p_k=np.dot(X_k.transpose(),t_k)   #projector: weighted sum of the observations with weights that emphasize the observations whose values participate most to the covariance with y in average\n",
    "        q_k=np.dot(t_k.transpose(),y) #captured variability in y\n",
    "\n",
    "        #save the elements for the matrices\n",
    "        list_w_k.append(w_k)\n",
    "        list_p_k.append(p_k)\n",
    "        list_q_k.append(q_k)\n",
    "\n",
    "        #prepare the next iteration\n",
    "        if k<l-1:\n",
    "            X_k=X_k-np.dot(t_k.reshape(-1,1),p_k.reshape(1,-1))  #enleve l'information capturee par la projection de X_k sur t_k\n",
    "            v_k=np.dot(X_k.transpose(),y)    #covariance de chaque variable (apres avoir enleve la projection des donnees sur les precedents t_k) avec y\n",
    "            w_k=v_k/np.linalg.norm(v_k)\n",
    "\n",
    "    #create the martices\n",
    "    W=np.zeros([p,l])\n",
    "    P=np.zeros([p,l])\n",
    "    q=np.zeros(l)\n",
    "    for i in range(l):\n",
    "        W[:,i]=list_w_k[i]\n",
    "        P[:,i]=list_p_k[i]\n",
    "        q[i]=list_q_k[i]\n",
    "\n",
    "    tmp=np.linalg.inv(np.dot(P.transpose(),W))\n",
    "    B=np.dot(np.dot(W,tmp),q)\n",
    "\n",
    "    return [B,W,P,q]\n",
    "\n"
   ]
  },
  {
   "cell_type": "code",
   "execution_count": 3,
   "metadata": {
    "tags": []
   },
   "outputs": [
    {
     "data": {
      "image/png": "[encoded data removed]",
      "text/plain": [
       "<Figure size 432x288 with 1 Axes>"
      ]
     },
     "metadata": {
      "needs_background": "light"
     },
     "output_type": "display_data"
    }
   ],
   "source": [
    "\n",
    "#Data normalization\n",
    "X=scale(X)\n",
    "y=scale(y)\n",
    "\n",
    "[B,W,P,q]=PLS1(X,y,3)\n",
    "\n",
    "plt.plot(W[:,0],'bo')\n",
    "plt.plot(W[:,1],'g+')\n",
    "plt.plot(W[:,2],'r*')\n",
    "plt.axline((0.,0.),(9.,0.))\n",
    "plt.title(str(np.round(q[0],3))+' '+str(np.round(q[1],3))+' '+str(np.round(q[2],3)))\n",
    "plt.show()\n"
   ]
  },
  {
   "cell_type": "markdown",
   "metadata": {},
   "source": [
    "\n",
    "#### <span style=\"color:blue\">QUESTION 1</span> \n",
    "    \n",
    "Bien comprendre le detail de l'algorithme NIPALS qui est dans la fonction PLS1\n",
    "\n",
    "Que representent les courbes du plot et les valeurs de q ?\n",
    "\n",
    "#### <span style=\"color:blue\">REPONSE 1 </span> \n",
    "\n",
    "    \n",
    "\n"
   ]
  },
  {
   "cell_type": "markdown",
   "metadata": {
    "user_expressions": []
   },
   "source": [
    "Les courbes du plot représentent l'importance de chaque variable dans les pondérations de la régression. Ainsi le premier poids est basé sur les 4 premières variables. Le second surtout sur la première. etc\n",
    "\n",
    "Les valeurs de q renseignent sur la variabilité capturée dans y qui provient essentiellement des deux premières directions de projection."
   ]
  },
  {
   "cell_type": "markdown",
   "metadata": {
    "user_expressions": []
   },
   "source": [
    "#### <span style=\"color:blue\">QUESTION 2</span> \n",
    "    \n",
    "Dans les lignes ci-dessous, quel est le lien entre X, T et X_reco ?\n",
    "\n",
    "    "
   ]
  },
  {
   "cell_type": "code",
   "execution_count": 4,
   "metadata": {
    "tags": []
   },
   "outputs": [
    {
     "name": "stdout",
     "output_type": "stream",
     "text": [
      "obs 0:\n",
      "[ 1.8914302   0.39998622  0.3468145   0.73790588  0.09984981 -1.17356103\n",
      "  2.01216961 -0.78447562 -0.89249675 -0.91259747]\n",
      "[ 1.97205625  0.46335655  0.4753776   0.46680905  0.06599255  0.17028426\n",
      "  0.14786748 -0.01954564  0.08414427 -0.19722077]\n",
      "obs 1:\n",
      "[-0.96550357  0.55959882  0.6251542   0.83022904  0.50119316  0.99338397\n",
      "  1.17968346 -0.82393439  0.45906846  1.25101307]\n",
      "[-1.00351533  0.62726036  0.78456102  0.74378536  0.17733255  0.40616155\n",
      "  0.27336582  0.06659396  0.25365619 -0.26128405]\n",
      "obs 2:\n",
      "[ 0.48069119  1.06158256  1.14522748  0.89436008 -0.4660904   1.71734747\n",
      "  1.10903476  0.80183382  1.31948754  0.14843125]\n",
      "[ 0.42426819  0.89008638  1.23137434  1.14076884  0.43684738  1.03124716\n",
      "  0.70788809  0.07268435  0.58284811 -0.86083785]\n"
     ]
    }
   ],
   "source": [
    "T=np.dot(X,W)\n",
    "X_reco=np.dot(T,W.transpose())\n",
    "\n",
    "for i in range(3):\n",
    "    print(\"obs \"+str(i)+\":\")\n",
    "    print(X[i,:])\n",
    "    print(X_reco[i,:])\n"
   ]
  },
  {
   "cell_type": "markdown",
   "metadata": {},
   "source": [
    "#### <span style=\"color:blue\">REPONSE 2 </span> \n",
    "\n",
    "    \n"
   ]
  },
  {
   "cell_type": "markdown",
   "metadata": {
    "user_expressions": []
   },
   "source": [
    "X correspond aux observations. T à la projection des observations (\"phase de compression/réduction de dimension\"). X_reco à la reprojection des résultats (\"phase de décompression/augmentation de dimension\")"
   ]
  },
  {
   "cell_type": "markdown",
   "metadata": {
    "user_expressions": []
   },
   "source": [
    "#### <span style=\"color:blue\">Question 3</span> \n",
    "\n",
    "Que fait on dans les lignes ci-dessous ?"
   ]
  },
  {
   "cell_type": "code",
   "execution_count": 5,
   "metadata": {
    "tags": []
   },
   "outputs": [
    {
     "data": {
      "image/png": "[encoded data removed]",
      "text/plain": [
       "<Figure size 432x288 with 1 Axes>"
      ]
     },
     "metadata": {
      "needs_background": "light"
     },
     "output_type": "display_data"
    }
   ],
   "source": [
    "Y_pred=np.dot(X,np.vstack(B))\n",
    "plt.plot(Y_pred,y,'.')\n",
    "plt.show()\n"
   ]
  },
  {
   "cell_type": "markdown",
   "metadata": {},
   "source": [
    "\n",
    "#### <span style=\"color:blue\">REPONSE 3 </span> \n",
    "\n",
    "..."
   ]
  },
  {
   "cell_type": "markdown",
   "metadata": {},
   "source": [
    "### <span style=\"color:blue\">Question 4 </span> \n",
    "\n",
    "En vous inspirant du cours, modifiez la fonction PLS1 de maniere a avoir une base de projecteurs parcimonieuse. Utilisez la pour trouver une base plus simple a expliquer que precedement.\n",
    "\n",
    "### <span style=\"color:blue\">Réponse 4 </span> \n"
   ]
  },
  {
   "cell_type": "code",
   "execution_count": 11,
   "metadata": {
    "tags": []
   },
   "outputs": [
    {
     "name": "stderr",
     "output_type": "stream",
     "text": [
      "/tmp/ipykernel_2175779/1616760408.py:41: RuntimeWarning: invalid value encountered in true_divide\n",
      "  w_k = w_k/np.linalg.norm(w_k)\n"
     ]
    },
    {
     "data": {
      "image/png": "[encoded data removed]",
      "text/plain": [
       "<Figure size 432x288 with 1 Axes>"
      ]
     },
     "metadata": {
      "needs_background": "light"
     },
     "output_type": "display_data"
    },
    {
     "name": "stdout",
     "output_type": "stream",
     "text": [
      "0.6005568758263831\n",
      "0.09647456216183362\n",
      "nan\n"
     ]
    }
   ],
   "source": [
    "\n",
    "def sPLS1(X,y,l,lambda_val):\n",
    "    \"\"\"\n",
    "    sparse PLS1 strategy - NIPALS algorithm\n",
    "\n",
    "    Returns:\n",
    "        - B: regression coefficients wrt the original predictors\n",
    "        - W: orthonormal weights\n",
    "        - P: matrix of X-loading\n",
    "        - q: vector of y-loading\n",
    "    \"\"\"\n",
    "    [n,p]=X.shape\n",
    "\n",
    "    list_w_k=[]\n",
    "    list_p_k=[]\n",
    "    list_q_k=[]\n",
    "\n",
    "    X_k=X.copy()\n",
    "    v_k=np.dot(X_k.transpose(),y)\n",
    "    w_k=v_k - lambda_val*np.sign(v_k)\n",
    "    w_k[np.sign(v_k)!=np.sign(w_k)] = 0.\n",
    "    w_k = w_k/np.linalg.norm(w_k)\n",
    "\n",
    "    for k in range(l):\n",
    "        #compute the projections and loadings\n",
    "        tau_k=np.dot(X_k,w_k)   #weighted sum of the variables with weights that emphasize the variables of X that are the most correlated with y\n",
    "        t_k=tau_k/np.linalg.norm(tau_k)\n",
    "        p_k=np.dot(X_k.transpose(),t_k)   #projector: weighted sum of the observations with weights that emphasize the observations whose values participate most to the covariance with y in average\n",
    "        q_k=np.dot(t_k.transpose(),y) #captured variability in y\n",
    "\n",
    "        #save the elements for the matrices\n",
    "        list_w_k.append(w_k)\n",
    "        list_p_k.append(p_k)\n",
    "        list_q_k.append(q_k)\n",
    "\n",
    "        #prepare the next iteration\n",
    "        if k<l-1:\n",
    "            X_k=X_k-np.dot(t_k.reshape(-1,1),p_k.reshape(1,-1))  #enleve l'information capturee par la projection de X_k sur t_k\n",
    "            v_k=np.dot(X_k.transpose(),y)    #covariance de chaque variable (apres avoir enleve la projection des donnees sur les precedents t_k) avec y\n",
    "            w_k=v_k - lambda_val*np.sign(v_k)\n",
    "            w_k[np.sign(v_k)!=np.sign(w_k)] = 0.\n",
    "            w_k = w_k/np.linalg.norm(w_k)\n",
    "\n",
    "    #create the martices\n",
    "    W=np.zeros([p,l])\n",
    "    P=np.zeros([p,l])\n",
    "    q=np.zeros(l)\n",
    "    for i in range(l):\n",
    "        W[:,i]=list_w_k[i]\n",
    "        P[:,i]=list_p_k[i]\n",
    "        q[i]=list_q_k[i]\n",
    "\n",
    "    tmp=np.linalg.inv(np.dot(P.transpose(),W))\n",
    "    B=np.dot(np.dot(W,tmp),q)\n",
    "\n",
    "    return [B,W,P,q]\n",
    "\n",
    "\n",
    "\n",
    "[B,W,P,q]=sPLS1(X,y,3,50.)\n",
    "\n",
    "\n",
    "plt.plot(W[:,0],'bo')\n",
    "plt.plot(W[:,1],'g+')\n",
    "plt.plot(W[:,2],'r*')\n",
    "plt.axline((0.,0.),(9.,0.))\n",
    "plt.title(str(np.round(q[0],3))+' '+str(np.round(q[1],3))+' '+str(np.round(q[2],3)))\n",
    "plt.show()\n",
    "\n",
    "\n",
    "T_sparse=np.dot(X,W)\n",
    "X_reco_sparse=np.dot(T_sparse,W.transpose())\n",
    "\n",
    "print(np.abs(X[:,0:4]).std())\n",
    "print(np.abs(X[:,0:4]-X_reco[:,0:4]).std())\n",
    "print(np.abs(X[:,0:4]-X_reco_sparse[:,0:4]).std())\n",
    "\n"
   ]
  },
  {
   "cell_type": "markdown",
   "metadata": {
    "user_expressions": []
   },
   "source": [
    "\n",
    "On retrouve les 2 premières directions principales : seules les 4 premières variables semblent pertinentes."
   ]
  },
  {
   "cell_type": "code",
   "execution_count": null,
   "metadata": {},
   "outputs": [],
   "source": []
  }
 ],
 "metadata": {
  "anaconda-cloud": {},
  "kernelspec": {
   "display_name": "BE STATS TC1A",
   "language": "python",
   "name": "be_stats"
  },
  "language_info": {
   "codemirror_mode": {
    "name": "ipython",
    "version": 3
   },
   "file_extension": ".py",
   "mimetype": "text/x-python",
   "name": "python",
   "nbconvert_exporter": "python",
   "pygments_lexer": "ipython3",
   "version": "3.9.7"
  }
 },
 "nbformat": 4,
 "nbformat_minor": 4
}
