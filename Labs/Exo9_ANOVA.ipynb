{
 "cells": [
  {
   "cell_type": "markdown",
   "metadata": {
    "user_expressions": []
   },
   "source": [
    "## EXERCICE 9 : Analyse ANOVA\n",
    "\n",
    "Nous allons dans cet exercice effectuer en détail une analyse ANOVA sur deux jeux de données classiques afin de bien comprendre son fonctionnement.\n",
    "\n",
    "*Inspire de  https://www.marsja.se/four-ways-to-conduct-one-way-anovas-using-python/*\n"
   ]
  },
  {
   "cell_type": "code",
   "execution_count": 1,
   "metadata": {
    "tags": []
   },
   "outputs": [
    {
     "data": {
      "image/png": "[encoded data removed]",
      "text/plain": [
       "<Figure size 864x576 with 1 Axes>"
      ]
     },
     "metadata": {
      "needs_background": "light"
     },
     "output_type": "display_data"
    }
   ],
   "source": [
    "\n",
    "#1) INITIALISATION\n",
    "\n",
    "#1.1) Importe les modules matplotlib (pour la visualisation de graphes) et pandas (pour la manipulation de donnees)\n",
    "import matplotlib.pyplot as plt\n",
    "import pandas as pd\n",
    "from scipy import stats\n",
    "\n",
    "#1.2) charge les donnees\n",
    "data = pd.read_csv(\"PlantGrowth.csv\")\n",
    " \n",
    "#1.3) represente un resume des données (necessite d'avoir appele matplotlib)\n",
    "data.boxplot('weight', by='group', figsize=(12, 8))\n",
    "plt.show()\n"
   ]
  },
  {
   "cell_type": "markdown",
   "metadata": {
    "user_expressions": []
   },
   "source": [
    "### <span style=\"color:blue\">QUESTIONS 1</span> :\n",
    "\n",
    "- Que signifient les box-plots (ou boites à moustache) ? Vous pouvez taper 'data.boxplot?' pour des informations élémentaires.\n",
    "- Les groupes vous semblent-il distribués de manière similaire ?\n",
    "- Les variabilités intra-groupe vous semblent-t-elles similaires ?\n",
    "\n",
    "**Remarque :** On pourra constater que les observations sont dans trois groupes de tailles égales. On note $n$ le nombre d'observations dans chaque sous-groupe et $N$ le nombre d'observations total.\n",
    "\n",
    "### <span style=\"color:blue\">REPONSES 1</span> :\n",
    "- ...\n",
    "- ...\n",
    "- ..."
   ]
  },
  {
   "cell_type": "code",
   "execution_count": 2,
   "metadata": {
    "tags": []
   },
   "outputs": [
    {
     "name": "stdout",
     "output_type": "stream",
     "text": [
      "0.015909958325623124\n"
     ]
    }
   ],
   "source": [
    "#2) STATISTIQUE DE FISHER\n",
    "\n",
    " \n",
    "grps = pd.unique(data.group.values)\n",
    "d_data = {grp:data['weight'][data.group == grp] for grp in grps}\n",
    " \n",
    "k = len(grps)  # nombre de groupes\n",
    "N = len(data.values)  # nombre d'observations\n",
    "n = data.groupby('group').size()[0] #nombre d'observations dans chaque groupe (on remarque que tous les groupes on la meme taille)\n",
    "\n",
    "#calcule la variabilite due aux interactions entre groupes (Sum of Squares Between)\n",
    "SSbetween = (sum(data.groupby('group').sum()['weight']**2)/n)- (data['weight'].sum()**2)/N\n",
    "\n",
    "#calcule la variabilite due aux differences entre les observations (Sum of Squares Within)\n",
    "sum_y_squared = sum([value**2 for value in data['weight'].values])\n",
    "SSwithin = sum_y_squared - sum(data.groupby('group').sum()['weight']**2)/n\n",
    "\n",
    "#calcule la variabilite totale (Sum of Squares Total)\n",
    "SStotal = sum_y_squared - (data['weight'].sum()**2)/N\n",
    "\n",
    "#defini les degres de liberte\n",
    "DFbetween = k - 1\n",
    "DFwithin = N - k\n",
    "DFtotal = N - 1\n",
    "\n",
    "#calcule la statistique de Fisher\n",
    "MSbetween = SSbetween/DFbetween\n",
    "MSwithin = SSwithin/DFwithin\n",
    "\n",
    "F = MSbetween/MSwithin\n",
    "\n",
    "\n",
    "p = stats.f.sf(F, DFbetween, DFwithin)\n",
    "\n",
    "print(p)"
   ]
  },
  {
   "cell_type": "markdown",
   "metadata": {
    "user_expressions": []
   },
   "source": [
    "### <span style=\"color:blue\">QUESTION 2</span> :\n",
    "\n",
    "\n",
    "Faire le lien avec le cours, puis chercher ce que fait la fonction *stats.f.sf* afin d'expliquer ce que signifie *p*. Qu'en déduisez vous sur l'égalité ou l'inégalité des moyennes ? \n",
    "\n",
    "### <span style=\"color:blue\">REPONSE 2</span> :\n",
    "\n",
    "p est la probabilité de rejeter l'inégalité des moyennes. p étant très petit : les moyennes sont vraissembablement inégales."
   ]
  },
  {
   "cell_type": "markdown",
   "metadata": {
    "user_expressions": []
   },
   "source": [
    "\n",
    "### <span style=\"color:blue\">QUESTION 3</span> :\n",
    "\n",
    "Adaptez ce code pour étudier la colonne 'f2' des données IRIS de 'DataIris.csv'. Que déduisez vous du résultat sur les valeurs de la colonne (variable) dans les trois groupes d'IRIS considérés ?\n",
    "\n",
    "### <span style=\"color:blue\">REPONSE 3</span> :\n",
    "\n",
    "La probabilité de rejeter l'inégalité des moyennes étant très petites : il est donc vraissemblable que les moyennes soient inégales.\n"
   ]
  },
  {
   "cell_type": "code",
   "execution_count": 5,
   "metadata": {
    "tags": []
   },
   "outputs": [
    {
     "data": {
      "image/png": "[encoded data removed]",
      "text/plain": [
       "<Figure size 864x576 with 1 Axes>"
      ]
     },
     "metadata": {
      "needs_background": "light"
     },
     "output_type": "display_data"
    },
    {
     "name": "stdout",
     "output_type": "stream",
     "text": [
      "1.3279165184550504e-16\n"
     ]
    }
   ],
   "source": [
    "\n",
    "data = pd.read_csv(\"DataIris.csv\")\n",
    " \n",
    "data.boxplot('f2', by='IRIS_type', figsize=(12, 8))\n",
    "plt.show()\n",
    "\n",
    "\n",
    "grps = pd.unique(data['IRIS_type'])\n",
    "d_data = {grp:data['f2'][data['IRIS_type'] == grp] for grp in grps}\n",
    " \n",
    "k = len(grps)  # nombre de groupes\n",
    "N = len(data.values)  # nombre d'observations\n",
    "n = data.groupby('IRIS_type').size()[0] #nombre d'observations dans chaque groupe (on remarque que tous les groupes on la meme taille)\n",
    "\n",
    "#calcule la variabilite due aux interactions entre groupes (Sum of Squares Between)\n",
    "SSbetween = (sum(data.groupby('IRIS_type').sum()['f2']**2)/n)- (data['f2'].sum()**2)/N\n",
    "\n",
    "#calcule la variabilite due aux differences entre les observations (Sum of Squares Within)\n",
    "sum_y_squared = sum([value**2 for value in data['f2'].values])\n",
    "SSwithin = sum_y_squared - sum(data.groupby('IRIS_type').sum()['f2']**2)/n\n",
    "\n",
    "#calcule la variabilite totale (Sum of Squares Total)\n",
    "SStotal = sum_y_squared - (data['f2'].sum()**2)/N\n",
    "\n",
    "#defini les degres de liberte\n",
    "DFbetween = k - 1\n",
    "DFwithin = N - k\n",
    "DFtotal = N - 1\n",
    "\n",
    "#calcule la statistique de Fisher\n",
    "MSbetween = SSbetween/DFbetween\n",
    "MSwithin = SSwithin/DFwithin\n",
    "\n",
    "F = MSbetween/MSwithin\n",
    "\n",
    "\n",
    "p = stats.f.sf(F, DFbetween, DFwithin)\n",
    "\n",
    "print(p)\n"
   ]
  },
  {
   "cell_type": "markdown",
   "metadata": {},
   "source": [
    "\n",
    "### <span style=\"color:blue\">QUESTION 4</span> :\n",
    "\n",
    "Est-ce qu'un test non-paramétrique de kruskal wallis conduit à la même conclusion ?\n",
    "\n",
    "On pourra utiliser la fonction scipy.stats.kruskal\n",
    "\n",
    "### <span style=\"color:blue\">REPONSE 4</span> :"
   ]
  },
  {
   "cell_type": "code",
   "execution_count": 8,
   "metadata": {
    "tags": []
   },
   "outputs": [
    {
     "data": {
      "text/plain": [
       "KruskalResult(statistic=62.49463010053111, pvalue=2.6882119006774528e-14)"
      ]
     },
     "execution_count": 8,
     "metadata": {},
     "output_type": "execute_result"
    }
   ],
   "source": [
    "\n",
    "from scipy.stats import kruskal\n",
    "\n",
    "list_groups = []\n",
    "for grp in grps:\n",
    "    list_groups.append(data['f2'][data['IRIS_type'] == grp])\n",
    "    \n",
    "kruskal(list_groups[0],list_groups[1],list_groups[2])"
   ]
  },
  {
   "cell_type": "code",
   "execution_count": 10,
   "metadata": {
    "tags": []
   },
   "outputs": [],
   "source": [
    "# La p-value étant très faible : il est vraissemblable que les médianes soient différentes."
   ]
  }
 ],
 "metadata": {
  "anaconda-cloud": {},
  "kernelspec": {
   "display_name": "BE STATS TC1A",
   "language": "python",
   "name": "be_stats"
  },
  "language_info": {
   "codemirror_mode": {
    "name": "ipython",
    "version": 3
   },
   "file_extension": ".py",
   "mimetype": "text/x-python",
   "name": "python",
   "nbconvert_exporter": "python",
   "pygments_lexer": "ipython3",
   "version": "3.9.7"
  }
 },
 "nbformat": 4,
 "nbformat_minor": 4
}
