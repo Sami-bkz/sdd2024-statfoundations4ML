{
 "cells": [
  {
   "cell_type": "markdown",
   "metadata": {
    "user_expressions": []
   },
   "source": [
    "## EXERCICE 10 : PLS\n",
    "\n",
    "inspire de http://scikit-learn.org/stable/auto_examples/cross_decomposition/plot_compare_cross_decomposition.html\n"
   ]
  },
  {
   "cell_type": "code",
   "execution_count": 1,
   "metadata": {
    "tags": []
   },
   "outputs": [],
   "source": [
    "import numpy as np\n",
    "from numpy import random\n",
    "\n",
    "import matplotlib.pyplot as plt\n",
    "from sklearn.cross_decomposition import PLSRegression\n"
   ]
  },
  {
   "cell_type": "markdown",
   "metadata": {
    "user_expressions": []
   },
   "source": [
    "### Partie 1 : regression PLS avec reponse univariee (PLS1)\n"
   ]
  },
  {
   "cell_type": "code",
   "execution_count": 2,
   "metadata": {
    "tags": []
   },
   "outputs": [
    {
     "name": "stdout",
     "output_type": "stream",
     "text": [
      "[[13.8 13.5 17.1 ... 10.1  5.4  7.8]\n",
      " [14.4 15.  15.1 ... 11.4  8.1  7.1]\n",
      " [13.1 10.5 15.9 ...  7.4  9.2  7.9]\n",
      " ...\n",
      " [10.1 11.  10.1 ...  6.9  4.1  5.5]\n",
      " [11.2  8.3  9.6 ...  9.7  8.2  8.7]\n",
      " [ 8.1 10.2 12.4 ...  6.7  7.5  7. ]]\n",
      "[[11.1 12.6 11.4  9.7  8.3  7.6  8.1 11.7  7.1  8.8 11.6 11.3 10.3  9.7\n",
      "   9.6  9.2 10.7 10.2 12.  10.3 12.1 11.1 11.  11.4  9.1  9.5 10.7  9.9\n",
      "  11.4  9.5 10.2  8.3 11.5 11.5 10.3 11.8  8.6  8.9  9.3 10.2  8.7  9.8\n",
      "  12.1  8.8  8.  12.2  8.3  6.4  9.9  8.8 10.8  8.7  8.9  9.1 10.7 11.3\n",
      "  12.7 10.4  8.5 11.9  9.9  8.8  8.   8.2 10.4 10.  10.9 10.3 13.2 11.2\n",
      "  10.1  9.   9.1 12.9  9.1 10.9 12.5 10.6  9.9 10.1 11.5  9.8 11.3  9.8\n",
      "  11.3 10.7 10.5 10.2 12.3 11.4 10.3  8.9 11.3  9.1 10.4 11.6 11.6 10.4\n",
      "  11.7  9.1  8.9  9.6  9.7  8.9 12.5  9.9 12.5 13.2  9.5  9.8  8.4  9.2\n",
      "   7.9 11.8 10.3 10.4  9.6  9.8  9.9  9.4  6.1  9.  10.9 10.6  7.5  9.6\n",
      "  10.9  9.3 11.2  9.5  8.5  9.4  7.3  8.3 11.1 13.6  9.  10.1 12.5  7.2\n",
      "   7.6  8.5 12.4 13.4  9.6 11.7  9.3  9.1  8.1 12.  10.2 11.1 11.9 11.7\n",
      "  11.2  8.1 10.8  7.7  9.  11.   9.6  9.9 12.1 10.8 12.1 10.8  9.7  8.7\n",
      "  10.2 12.2 10.8  8.1  9.6 11.  10.6 10.4 10.   9.5 11.   7.9 10.  12.3\n",
      "  10.9  9.7  8.9  9.9 11.7  7.7  7.4 12.1  9.3  9.2  8.2  9.  12.3 11.1\n",
      "   8.9 10.6  9.4  9.8 10.3  9.6 10.1  9.   9.2 14.2 10.1  9.6 12.   9.4\n",
      "  12.2 11.5  9.4 10.4 11.  11.1  7.2 10.6  9.1 13.   9.1 11.7 10.5 13.4\n",
      "   9.4  8.7 12.8  7.1  7.5 10.4 11.  10.1 10.9 10.7 10.1  7.9 10.8 10.\n",
      "   8.7 11.2 11.1 12.1 10.3 10.3 11.4 11.9 13.6 10.8 10.9  8.1 10.3 11.2\n",
      "   9.5 11.8  8.1 11.7  8.   9.3 12.3 11.3  9.3  9.9  9.8 14.1  9.   9.3\n",
      "  12.  12.8 10.4  9.4  6.7  9.9 10.1 10.1 12.1  9.6 11.8 12.8  9.3 11.4\n",
      "   9.3 10.7 12.4 10.4  9.3 11.5  9.4 12.4 11.2 11.2 11.  12.3 11.7  8.5\n",
      "  11.9 10.8 10.4 14.5  9.4 10.5  9.9  9.1  8.1 11.4 10.2 10.1 11.4 12.2\n",
      "   9.1 10.6 10.3 10.6 10.1  9.9 10.9 11.8 11.4 10.1  9.6 11.7 12.3  9.2\n",
      "  11.8 10.3 10.2  9.2  9.3 10.1 10.7 10.2 10.1  9.8 10.8 11.4 10.1 11.4\n",
      "  10.1 12.   8.9  9.   8.4  9.5  9.8 12.  13.2  9.2 11.6 10.2 10.3 11.2\n",
      "   9.9  9.8 10.2 12.1 13.   7.8 12.3 10.2  9.7  8.7 11.6 11.8 12.6  9.5\n",
      "  10.3 10.   9.3 10.5 13.2  9.3 12.9  8.5  9.9 10.1 11.5  8.5  9.6 10.4\n",
      "   9.8 10.8 11.7 10.5  8.8  9.9  8.9 12.6 11.2 11.2 10.3  9.7 10.6 10.3\n",
      "   8.4  9.9 10.1  9.2  9.8  8.  11.5  7.9 12.6 10.4 11.  10.3 10.5 10.8\n",
      "  10.1  9.8  8.8  8.5 11.8 10.2  9.4 11.8 13.9 10.1  8.5  7.3  8.9  9.4\n",
      "  10.7  9.9 12.1  9.1 11.2  9.6 10.4 11.9 11.8  8.7 13.3  8.3  8.9 12.5\n",
      "   9.9  8.8  9.3 10.9 11.3 10.4  7.8 11.7 11.9  9.6 12.5 10.2 10.4 12.8\n",
      "   8.8 11.8  8.1  8.3 10.5  8.5  9.9  7.9  9.7 10.   9.2 10.1  8.3 11.3\n",
      "   9.   9.2  8.3 10.7 11.6  9.1 11.4  9.7  9.4 14.   7.3 10.5 10.6  9.\n",
      "   8.9  6.6  8.2  8.9 12.   9.8 10.8  9.8 11.2  9.2  8.2 11.3  9.8 11.7\n",
      "  10.8  8.9 10.3 10.5 10.4  9.5  9.8  8.6 10.5  8.4]]\n"
     ]
    },
    {
     "name": "stderr",
     "output_type": "stream",
     "text": [
      "/tmp/ipykernel_2175126/3990020790.py:20: RuntimeWarning: covariance is not positive-semidefinite.\n",
      "  notes=np.round(random.multivariate_normal(mean, 4*cov, size=n),1)\n"
     ]
    }
   ],
   "source": [
    "#On va supposer que l'on veut mettre en lien les notes d'étudiants dans différentes \n",
    "#matières (notes) à celles obtenus par les mêmes étudiants à un concours en fin d'année (y)\n",
    "\n",
    "#GENERATION DE DONNEES SIMULEES\n",
    "n = 500\n",
    "p = 7\n",
    "\n",
    "cov=np.array(\n",
    "[[0.2 , 0.5  , 0.5 , 0   , 0   , 0.  , 0  ],\n",
    "[0.5  , 0.2  , 0.5 , 0   , 0   , 0   , 0.],\n",
    "[0.5  , 0.5  , 0.2  , 0.  , 0   , 0   , 0  ],\n",
    "[0.   , 0    , 0.  , 1.2 , 0.8 , 0   , 0  ],\n",
    "[0.   , 0    , 0   , 0.8 , 1.5 , 0   , 0  ],\n",
    "[0.   , 0    , 0   , 0   , 0   , 0.2  , 0.9],\n",
    "[0.   , 0.0  , 0   , 0   , 0   , 0.9 , 0.2]]\n",
    ")\n",
    "\n",
    "mean = np.array([12,11,13,12,10,9,8.])\n",
    "\n",
    "notes=np.round(random.multivariate_normal(mean, 4*cov, size=n),1)\n",
    "\n",
    "notes[notes<0.]=0.\n",
    "notes[notes>20.]=20.\n",
    "\n",
    "theta=np.array([0.5,0.00,0.0,0.00,0.00,0.25,0.25])\n",
    "y = np.round(np.dot(notes,theta.reshape(-1,1)) + np.random.normal(size=n).reshape(-1,1),1)\n",
    "           \n",
    "print(notes)\n",
    "print(y.transpose())\n",
    "     \n",
    "    \n"
   ]
  },
  {
   "cell_type": "markdown",
   "metadata": {},
   "source": [
    "##### QUESTION 1: \n",
    "- Comment sont construites les donnees simulees ? \n",
    "- Que vous attendez-vous a voir dans la PLS\n"
   ]
  },
  {
   "cell_type": "markdown",
   "metadata": {
    "user_expressions": []
   },
   "source": [
    "On utilise une loi normale : notes=np.round(random.multivariate_normal(mean, 4*cov, size=n),1)\n",
    "\n",
    "On s'attend à voir 3 groupes (matières 1,2,3 puis matières 4,5 et enfin 6,7)."
   ]
  },
  {
   "cell_type": "code",
   "execution_count": 3,
   "metadata": {
    "tags": []
   },
   "outputs": [
    {
     "data": {
      "text/plain": [
       "PLSRegression(n_components=7)"
      ]
     },
     "execution_count": 3,
     "metadata": {},
     "output_type": "execute_result"
    }
   ],
   "source": [
    "\n",
    "pls1 = PLSRegression(n_components=7)\n",
    "pls1.fit(notes, y)\n",
    "\n"
   ]
  },
  {
   "cell_type": "markdown",
   "metadata": {},
   "source": [
    "##### QUESTION 2 : \n",
    "- Quelle est la signification de pls1.x_rotations_. \n",
    "- Comment interpretez vous ses valeurs ?\n"
   ]
  },
  {
   "cell_type": "code",
   "execution_count": 4,
   "metadata": {
    "tags": []
   },
   "outputs": [
    {
     "name": "stdout",
     "output_type": "stream",
     "text": [
      "[[ 6.24340635e-01 -3.14700309e-01  8.72067372e-01  9.38097666e-03\n",
      "   8.54063199e-02 -5.80226239e-02  8.27456437e-04]\n",
      " [ 3.73749374e-01  4.30550734e-01 -3.95743838e-01  1.49157687e-02\n",
      "   3.07148881e-02 -3.57321268e-01 -6.80578104e-01]\n",
      " [ 3.36836427e-01  4.80066683e-01 -3.46754021e-01  7.38801776e-02\n",
      "   1.11216340e-01  2.44038020e-01  7.09934977e-01]\n",
      " [-4.14750365e-02 -1.97182858e-01  4.79718525e-02  8.03721077e-01\n",
      "   4.41850104e-03 -3.72925248e-01  3.91413722e-02]\n",
      " [-5.69458536e-02 -8.00951977e-02 -9.55763051e-02 -5.23157646e-01\n",
      "   1.08942186e+00  8.13117039e-02  3.47640980e-02]\n",
      " [ 4.03367017e-01 -5.31500905e-01 -2.47176627e-01 -2.35945512e-01\n",
      "  -1.88850043e-01 -5.24765830e-01  2.08443138e-01]\n",
      " [ 4.35182076e-01 -4.90838646e-01 -1.80723834e-01  1.63216710e-01\n",
      "   7.31817367e-02  6.60796924e-01 -1.51467422e-01]]\n"
     ]
    }
   ],
   "source": [
    "print(pls1.x_rotations_)"
   ]
  },
  {
   "cell_type": "code",
   "execution_count": null,
   "metadata": {},
   "outputs": [],
   "source": [
    "# C'est la matrice de projection de X"
   ]
  },
  {
   "cell_type": "markdown",
   "metadata": {},
   "source": [
    "##### QUESTION 3 : \n",
    "- Observez les projections de X sur les deux premiers axes de pls1.x_rotations_ . \n",
    "- Pouvez-vous definir des profils etudiants a partir de cette projection de X ?\n"
   ]
  },
  {
   "cell_type": "code",
   "execution_count": 21,
   "metadata": {
    "tags": []
   },
   "outputs": [
    {
     "data": {
      "text/plain": [
       "<matplotlib.collections.PathCollection at 0x14cc419dd8e0>"
      ]
     },
     "execution_count": 21,
     "metadata": {},
     "output_type": "execute_result"
    },
    {
     "data": {
      "image/png": "[encoded data removed]",
      "text/plain": [
       "<Figure size 432x288 with 1 Axes>"
      ]
     },
     "metadata": {
      "needs_background": "light"
     },
     "output_type": "display_data"
    }
   ],
   "source": [
    "X_proj = np.dot(notes,np.transpose(pls1.x_rotations_[0:2]))\n",
    "#print(X_proj.transpose())\n",
    "X_proj = np.reshape(X_proj,(2,500))\n",
    "#print(X_proj)\n",
    "#print(X_proj.shape)\n",
    "plt.scatter(X_proj[0],X_proj[1])"
   ]
  },
  {
   "cell_type": "code",
   "execution_count": null,
   "metadata": {},
   "outputs": [],
   "source": []
  }
 ],
 "metadata": {
  "anaconda-cloud": {},
  "kernelspec": {
   "display_name": "BE STATS TC1A",
   "language": "python",
   "name": "be_stats"
  },
  "language_info": {
   "codemirror_mode": {
    "name": "ipython",
    "version": 3
   },
   "file_extension": ".py",
   "mimetype": "text/x-python",
   "name": "python",
   "nbconvert_exporter": "python",
   "pygments_lexer": "ipython3",
   "version": "3.9.7"
  }
 },
 "nbformat": 4,
 "nbformat_minor": 4
}
