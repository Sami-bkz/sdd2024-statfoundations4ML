{
 "cells": [
  {
   "cell_type": "markdown",
   "metadata": {
    "user_expressions": []
   },
   "source": [
    "# EXERCICE 7 : REGRESSION LINEAIRE MULTIPLE AVEC REGULARISATION + VALIDATION CROISEE\n",
    "\n",
    "\n",
    "Inspire de http://scikit-learn.org/stable/auto_examples/linear_model/plot_lasso_and_elasticnet.html\n"
   ]
  },
  {
   "cell_type": "code",
   "execution_count": 2,
   "metadata": {
    "tags": []
   },
   "outputs": [],
   "source": [
    "\n",
    "import numpy as np\n",
    "import matplotlib.pyplot as plt\n",
    "\n",
    "from sklearn.metrics import mean_squared_error\n"
   ]
  },
  {
   "cell_type": "markdown",
   "metadata": {
    "user_expressions": []
   },
   "source": [
    "#### Génération de donnée synthétiques..."
   ]
  },
  {
   "cell_type": "code",
   "execution_count": 3,
   "metadata": {
    "tags": []
   },
   "outputs": [],
   "source": [
    "\n",
    "np.random.seed(31)\n",
    "\n",
    "#... definition de n et p\n",
    "n = 75\n",
    "p =  200   #remarque : n<200 => necessite de selectionner des variables\n",
    "\n",
    "#... simulation de X\n",
    "X = np.random.randn(n, p) #remarque : on ne tient pas en compte les $beta_0$\n",
    "\n",
    "#... generation du vecteur beta dans lequel seules 10 valeurs sont non-nulles\n",
    "beta = 3 * np.random.randn(p)\n",
    "inds = np.arange(p)\n",
    "np.random.shuffle(inds)\n",
    "beta[inds[10:]] = 0 \n",
    "\n",
    "#... simulation de y \n",
    "y = np.dot(X, beta) + (2.0 * np.random.normal(size=n))\n",
    "\n",
    "\n",
    "# REMARQUE IMPORTANTE : y ne dépend que des variables i pour lesquelles beta[i] est non-nul\n",
    "\n",
    "\n",
    "# ... coupe en deux les donnees en donnees d'apprentissage et donnes test\n",
    "thresh=n // 2\n",
    "X_train = X[thresh:]\n",
    "y_train = y[thresh:]\n",
    "X_test = X[:thresh]\n",
    "y_test = y[:thresh]\n"
   ]
  },
  {
   "cell_type": "markdown",
   "metadata": {
    "user_expressions": []
   },
   "source": [
    "#### Régression linéaire avec régularisation Lasso ...\n"
   ]
  },
  {
   "cell_type": "code",
   "execution_count": 15,
   "metadata": {
    "tags": []
   },
   "outputs": [],
   "source": [
    "\n",
    "from sklearn.linear_model import Lasso\n",
    "\n",
    "alpha = 0.5\n",
    "lasso_regressor = Lasso(alpha=alpha)\n",
    "lasso_regressor.fit(X_train, y_train)\n",
    "\n",
    "y_pred_lasso = lasso_regressor.predict(X_test)\n",
    "mse_score_lasso = mean_squared_error(y_test, y_pred_lasso)\n"
   ]
  },
  {
   "cell_type": "markdown",
   "metadata": {
    "user_expressions": []
   },
   "source": [
    "####  Représentation du résultat\n"
   ]
  },
  {
   "cell_type": "code",
   "execution_count": 16,
   "metadata": {
    "tags": []
   },
   "outputs": [
    {
     "data": {
      "image/png": "[encoded data removed]",
      "text/plain": [
       "<Figure size 432x288 with 1 Axes>"
      ]
     },
     "metadata": {
      "needs_background": "light"
     },
     "output_type": "display_data"
    }
   ],
   "source": [
    "fig = plt.figure()\n",
    "plt.plot(y_test, y_pred_lasso, 'r.')\n",
    "plt.xlabel('True value')\n",
    "plt.ylabel('Predicted value')\n",
    "plt.title('True vs predicted value (mse='+str(mse_score_lasso)+')')\n",
    "plt.show()\n",
    "\n"
   ]
  },
  {
   "cell_type": "code",
   "execution_count": 17,
   "metadata": {
    "tags": []
   },
   "outputs": [
    {
     "data": {
      "image/png": "[encoded data removed]",
      "text/plain": [
       "<Figure size 432x288 with 1 Axes>"
      ]
     },
     "metadata": {
      "needs_background": "light"
     },
     "output_type": "display_data"
    }
   ],
   "source": [
    "\n",
    "fig = plt.figure()\n",
    "plt.plot(lasso_regressor.coef_, 'r.')\n",
    "plt.plot(beta, 'b.')\n",
    "plt.legend(('Beta estime', 'Beta reel'), loc='lower right')\n",
    "plt.title('Coefficients de beta')\n",
    "plt.show()\n"
   ]
  },
  {
   "cell_type": "markdown",
   "metadata": {
    "user_expressions": []
   },
   "source": [
    "\n",
    "### <span style=\"color:blue\">QUESTION 1</span> :\n",
    "\n",
    "Jouez l'exemple avec  n=1000, n=100, n=75, n=50, n=25. Qu'en deduisez vous sur l'impact du nombre d'observations\n",
    "\n",
    "### <span style=\"color:blue\">REPONSE 1</span> :\n",
    "\n",
    "Un nombre important d'observations conduit à réduire le biais du modèle."
   ]
  },
  {
   "cell_type": "markdown",
   "metadata": {},
   "source": [
    "\n",
    "### <span style=\"color:blue\">QUESTION 2</span> :\n",
    "\n",
    "On garde n=75. Utilisez la validation croisee de type K-folds (typiquement 8-Folds) pour trouver le meilleur coefficient *alpha* au sens de la MSE. Pour chaque *alpha* testé, on gardera comme score la MSE moyenne obtenue sur tous les *folds*.\n",
    "\n",
    "Remarque : la recherche d'un bon coefficient *alpha* pourra d'abord se faire sur une échelle exponentielle assez large (ex: 0.001, 0.01, 0.1, ...) puis être raffinée sur une échelle plus fine.  \n",
    "\n",
    "### <span style=\"color:blue\">REPONSE 2</span> :"
   ]
  },
  {
   "cell_type": "code",
   "execution_count": 24,
   "metadata": {
    "tags": []
   },
   "outputs": [
    {
     "name": "stdout",
     "output_type": "stream",
     "text": [
      "[8.877750116673335, 8.8416028835091, 8.828611796320848, 8.820211766068443, 8.828499901443854, 8.835507423505963, 8.851403020462325, 8.890104254316263, 8.925926875363912, 8.96901179472852]\n"
     ]
    }
   ],
   "source": [
    "\n",
    "from sklearn.model_selection import KFold\n",
    "\n",
    "kf = KFold(n_splits=8)\n",
    "alpha_test = np.linspace(0.25,0.35,10)\n",
    "MSE_mean_test = []\n",
    "\n",
    "for alpha in alpha_test:\n",
    "    current_MSE = []\n",
    "    for i, (train_index, test_index) in enumerate(kf.split(X)):\n",
    "        #print(f\"Fold {i}:\")\n",
    "        #print(f\"  Train: index={train_index}\")\n",
    "        #print(f\"  Test:  index={test_index}\")\n",
    "        \n",
    "        lasso_regressor = Lasso(alpha=alpha)\n",
    "        lasso_regressor.fit(X[train_index], y[train_index])\n",
    "\n",
    "        y_pred_lasso = lasso_regressor.predict(X[test_index])\n",
    "        current_MSE.append(mean_squared_error(y[test_index], y_pred_lasso))\n",
    "        \n",
    "    MSE_mean_test.append(np.mean(np.array(current_MSE)))\n",
    "\n",
    "print(MSE_mean_test)\n",
    "\n"
   ]
  },
  {
   "cell_type": "code",
   "execution_count": 26,
   "metadata": {
    "tags": []
   },
   "outputs": [
    {
     "data": {
      "image/png": "[encoded data removed]",
      "text/plain": [
       "<Figure size 432x288 with 1 Axes>"
      ]
     },
     "metadata": {
      "needs_background": "light"
     },
     "output_type": "display_data"
    }
   ],
   "source": [
    "#représentation des coefficients estimés (lasso_regressor.coef_) et de ceux\n",
    "#avec lesquels les données ont été simulées (beta)\n",
    "\n",
    "        \n",
    "fig = plt.figure()\n",
    "plt.plot(lasso_regressor.coef_, 'r.')\n",
    "plt.plot(beta, 'b.')\n",
    "plt.legend(('Beta estime', 'Beta reel'), loc='lower right')\n",
    "plt.title('Coefficients de beta')\n",
    "plt.show()"
   ]
  },
  {
   "cell_type": "markdown",
   "metadata": {},
   "source": [
    "\n",
    "### <span style=\"color:blue\">QUESTION 3</span> :\n",
    "\n",
    "De manère alternative, codez et testez maintenant une sélection de type *forward* avec un critère de sélection *BIC*.\n",
    "\n",
    "Comparez les résultats avec ceux obtenus à l'aide de la pénalisation LASSO.\n",
    "\n",
    "### <span style=\"color:blue\">REPONSE 3</span> :\n"
   ]
  },
  {
   "cell_type": "code",
   "execution_count": 9,
   "metadata": {
    "tags": []
   },
   "outputs": [
    {
     "name": "stdout",
     "output_type": "stream",
     "text": [
      "75 variables are relevant : [114, 59, 86, 31, 102, 132, 83, 101, 184, 155, 32, 134, 118, 164, 150, 67, 191, 186, 9, 10, 185, 152, 20, 16, 35, 65, 189, 41, 53, 8, 116, 104, 151, 19, 70, 135, 18, 197, 77, 46, 110, 176, 163, 122, 196, 5, 121, 25, 39, 133, 144, 15, 98, 188, 26, 175, 157, 27, 21, 81, 84, 187, 82, 76, 97, 183, 154, 87, 166, 49, 182, 167, 123, 111, 137]\n"
     ]
    }
   ],
   "source": [
    "\n",
    "\n",
    "from sklearn.linear_model import LinearRegression\n",
    "\n",
    "n = 75\n",
    "p = 200\n",
    "\n",
    "var_kept = []\n",
    "bic = np.inf\n",
    "\n",
    "min_mse = np.inf\n",
    "current_var_kept = 0\n",
    "\n",
    "for k in range(p):\n",
    "    lr = LinearRegression()\n",
    "    X_tmp = X[:,k]\n",
    "    lr.fit(X_tmp[:,np.newaxis],y)\n",
    "    y_pred = lr.predict(X_tmp[:,np.newaxis])\n",
    "    mse = mean_squared_error(y_pred,y)\n",
    "    if mse < min_mse:\n",
    "        current_var_kept = k\n",
    "        min_mse = mse\n",
    "\n",
    "current_bic = n*np.log(min_mse) + np.log(n)*2\n",
    "if current_bic < bic:\n",
    "    bic = current_bic\n",
    "    var_kept.append(current_var_kept)\n",
    "\n",
    "q = 1\n",
    "while (current_bic <= bic) and (q<p):\n",
    "    q += 1\n",
    "    min_mse = np.inf\n",
    "    current_var_kept = -1\n",
    "\n",
    "    for k in range(p):\n",
    "        if k not in var_kept:\n",
    "            lr = LinearRegression()\n",
    "            var_kept_temp = var_kept.copy()\n",
    "            var_kept_temp.append(k)\n",
    "            X_tmp = X[:,var_kept_temp]\n",
    "            lr.fit(X_tmp,y)\n",
    "            y_pred = lr.predict(X_tmp)\n",
    "            mse = mean_squared_error(y_pred,y)\n",
    "            if mse < min_mse:\n",
    "                current_var_kept = k\n",
    "                min_mse = mse\n",
    "\n",
    "    current_bic = n*np.log(min_mse) + np.log(n)*(q+1)\n",
    "    #print(current_bic)\n",
    "    #print(bic)\n",
    "    if current_bic < bic:\n",
    "        bic = current_bic\n",
    "        var_kept.append(current_var_kept)\n",
    "\n",
    "    #print(var_kept)\n",
    "    #print(bic)\n",
    "    \n",
    "print(f\"{q-1} variables are relevant : {var_kept}\")"
   ]
  },
  {
   "cell_type": "code",
   "execution_count": null,
   "metadata": {},
   "outputs": [],
   "source": []
  }
 ],
 "metadata": {
  "anaconda-cloud": {},
  "kernelspec": {
   "display_name": "BE STATS TC1A",
   "language": "python",
   "name": "be_stats"
  },
  "language_info": {
   "codemirror_mode": {
    "name": "ipython",
    "version": 3
   },
   "file_extension": ".py",
   "mimetype": "text/x-python",
   "name": "python",
   "nbconvert_exporter": "python",
   "pygments_lexer": "ipython3",
   "version": "3.9.7"
  }
 },
 "nbformat": 4,
 "nbformat_minor": 4
}
